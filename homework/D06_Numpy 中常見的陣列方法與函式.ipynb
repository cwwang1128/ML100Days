{
 "cells": [
  {
   "cell_type": "markdown",
   "metadata": {},
   "source": [
    "\n",
    "1.   [簡答題] 請問下列這三種方法有什麼不同？\n",
    "\n",
    "print(a.sum()) \n",
    "\n",
    "print(np.sum(a))\n",
    "\n",
    "print(sum(a)) \n",
    "\n",
    "2.   請對一個 5x5 的隨機矩陣作正規化的操作。\n",
    "\n",
    "3.   請建立一個長度等於 10 的正整數向量，並且將其中的最大值改成 -1。"
   ]
  },
  {
   "cell_type": "code",
   "execution_count": 1,
   "metadata": {},
   "outputs": [
    {
     "name": "stdout",
     "output_type": "stream",
     "text": [
      "49995000\n",
      "49995000\n",
      "49995000\n",
      "7.29 µs ± 394 ns per loop (mean ± std. dev. of 7 runs, 100000 loops each)\n",
      "9.04 µs ± 338 ns per loop (mean ± std. dev. of 7 runs, 100000 loops each)\n",
      "868 µs ± 98.5 µs per loop (mean ± std. dev. of 7 runs, 1000 loops each)\n"
     ]
    }
   ],
   "source": [
    "import numpy as np\n",
    "\n",
    "a =np.arange(10000)\n",
    "\n",
    "print(a.sum())\n",
    "print(np.sum(a))\n",
    "print(sum(a))\n",
    "\n",
    "%timeit a.sum()\n",
    "%timeit np.sum(a)\n",
    "%timeit sum(a)"
   ]
  },
  {
   "cell_type": "code",
   "execution_count": 2,
   "metadata": {},
   "outputs": [],
   "source": [
    "# a.sum(),np.sum(a)和sum(a)可得相同結果\n",
    "#但速度上來說 a.sum>np.sum(a)>sum(a)"
   ]
  },
  {
   "cell_type": "code",
   "execution_count": 3,
   "metadata": {},
   "outputs": [
    {
     "name": "stdout",
     "output_type": "stream",
     "text": [
      "[[44.47517334 20.60693329 24.08078829 26.27331629 49.64281349]\n",
      " [16.50994897 84.73375375 36.44604415  4.59926391 47.66159137]\n",
      " [82.37028815 62.88055479 10.24634728 44.01544047 97.80861772]\n",
      " [61.49762605 72.41378384 20.38554067 44.98961555 85.1637139 ]\n",
      " [62.37454607 23.01497228 89.91166159 71.96732223 23.51123953]]\n",
      "[[0.42781017 0.17173887 0.20900825 0.23253087 0.48325139]\n",
      " [0.12778423 0.85972584 0.34166936 0.         0.46199577]\n",
      " [0.83436931 0.62527298 0.06058494 0.42287791 1.        ]\n",
      " [0.61043618 0.72755059 0.16936365 0.43332938 0.86433868]\n",
      " [0.61984425 0.19757361 0.91527721 0.72276071 0.20289783]]\n"
     ]
    }
   ],
   "source": [
    "#2. 請對一個 5x5 的隨機矩陣作正規化的操作。\n",
    "\n",
    "A = np.random.random((5, 5))*100\n",
    "norA = (A-A.min())/(A.max()-A.min())\n",
    "print(A,norA,sep='\\n')"
   ]
  },
  {
   "cell_type": "code",
   "execution_count": 4,
   "metadata": {},
   "outputs": [
    {
     "name": "stdout",
     "output_type": "stream",
     "text": [
      "[79 65 82 85 32 91 91 50  1 90]\n",
      "[79 65 82 85 32 -1 -1 50  1 90]\n"
     ]
    }
   ],
   "source": [
    "# 3. 請建立一個長度等於 10 的正整數向量，並且將其中的最大值改成 -1。\n",
    "A = np.random.randint(1,100,10)\n",
    "print(A)\n",
    "A[A==np.max(A)]=-1\n",
    "print(A)"
   ]
  },
  {
   "cell_type": "markdown",
   "metadata": {},
   "source": [
    "\n",
    "1.將下列陣列(array1)，轉成維度為(5X6)的 array，順序按列填充。(hint:order=\"F\")\n",
    "\n",
    "2.呈上題的 array，找出被 6 除餘 1 的數的索引"
   ]
  },
  {
   "cell_type": "code",
   "execution_count": 5,
   "metadata": {},
   "outputs": [
    {
     "name": "stdout",
     "output_type": "stream",
     "text": [
      "按行填充:\n",
      "[[ 0  1  2  3  4  5]\n",
      " [ 6  7  8  9 10 11]\n",
      " [12 13 14 15 16 17]\n",
      " [18 19 20 21 22 23]\n",
      " [24 25 26 27 28 29]]\n",
      "按行填充:\n",
      "[[ 0  1  2  3  4  5]\n",
      " [ 6  7  8  9 10 11]\n",
      " [12 13 14 15 16 17]\n",
      " [18 19 20 21 22 23]\n",
      " [24 25 26 27 28 29]]\n",
      "按列填充:\n",
      "[[ 0  5 10 15 20 25]\n",
      " [ 1  6 11 16 21 26]\n",
      " [ 2  7 12 17 22 27]\n",
      " [ 3  8 13 18 23 28]\n",
      " [ 4  9 14 19 24 29]]\n"
     ]
    }
   ],
   "source": [
    "#1.將下列陣列(array1)，轉成維度為(5X6)的 array，順序按列填充。(hint:order=\"F\")\n",
    "\n",
    "array1 = np.array(range(30))\n",
    "print('按行填充:',array1.reshape(5,6),sep='\\n')\n",
    "print('按行填充:',array1.reshape(5,6,order='C'),sep='\\n')\n",
    "print('按列填充:',array1.reshape(5,6,order='F'),sep='\\n')\n",
    "array2=array1.reshape(5,6,order='F')"
   ]
  },
  {
   "cell_type": "code",
   "execution_count": 6,
   "metadata": {},
   "outputs": [
    {
     "data": {
      "text/plain": [
       "(array([0, 1, 2, 3, 4], dtype=int64), array([5, 0, 1, 2, 3], dtype=int64))"
      ]
     },
     "execution_count": 6,
     "metadata": {},
     "output_type": "execute_result"
    }
   ],
   "source": [
    "#2.呈上題的 array，找出被 6 除餘 1 的數的索引\n",
    "np.where(array2%6==1)"
   ]
  },
  {
   "cell_type": "code",
   "execution_count": null,
   "metadata": {},
   "outputs": [],
   "source": []
  }
 ],
 "metadata": {
  "kernelspec": {
   "display_name": "Python 3",
   "language": "python",
   "name": "python3"
  },
  "language_info": {
   "codemirror_mode": {
    "name": "ipython",
    "version": 3
   },
   "file_extension": ".py",
   "mimetype": "text/x-python",
   "name": "python",
   "nbconvert_exporter": "python",
   "pygments_lexer": "ipython3",
   "version": "3.7.6"
  }
 },
 "nbformat": 4,
 "nbformat_minor": 4
}
