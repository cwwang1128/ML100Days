{
 "cells": [
  {
   "cell_type": "markdown",
   "metadata": {},
   "source": [
    "[作業目標]\n",
    "1. 請建立類似提供結果的 DataFrame：\n",
    "\n",
    "```\n",
    "#    Apples  Bananas\n",
    "# 0      30       21\n",
    "\n",
    "#             Apples  Bananas\n",
    "# 2017 Sales      35       21\n",
    "# 2018 Sales      41       34\n",
    "```\n",
    "\n",
    "2. 請問如果現在有一個 DataFrame 如下，請問資料在 Python 中可能長怎樣？\n",
    "\n",
    "```\n",
    "#      city  visitor weekday\n",
    "# 0  Austin      139     Sun\n",
    "# 1  Dallas      237     Sun\n",
    "# 2  Austin      326     Mon\n",
    "# 3  Dallas      456     Mon\n",
    "```\n",
    "\n",
    "3. 假設你想知道每個 weekday 的平均 visitor 數量，可以怎麼做？"
   ]
  },
  {
   "cell_type": "code",
   "execution_count": 4,
   "metadata": {},
   "outputs": [],
   "source": [
    "#1. 請建立類似提供結果的 DataFrame：\n",
    "\n",
    "import pandas as pd\n",
    "import numpy as np"
   ]
  },
  {
   "cell_type": "code",
   "execution_count": 14,
   "metadata": {},
   "outputs": [
    {
     "name": "stdout",
     "output_type": "stream",
     "text": [
      "   Apples  Banans\n",
      "0      30      21\n"
     ]
    }
   ],
   "source": [
    "df = pd.DataFrame({'Apples': [30],'Banans': [21],})\n",
    "print(df)"
   ]
  },
  {
   "cell_type": "code",
   "execution_count": 16,
   "metadata": {},
   "outputs": [
    {
     "name": "stdout",
     "output_type": "stream",
     "text": [
      "   Apples  Banas\n",
      "0      30     21\n"
     ]
    }
   ],
   "source": [
    "df = pd.DataFrame([[30, 21]], columns=['Apples','Banas'])\n",
    "print(df)"
   ]
  },
  {
   "cell_type": "code",
   "execution_count": 17,
   "metadata": {},
   "outputs": [
    {
     "name": "stdout",
     "output_type": "stream",
     "text": [
      "            Apples  Bananas\n",
      "2017 Sales      35       21\n",
      "2018 Sales      41       34\n"
     ]
    }
   ],
   "source": [
    "df2= pd.DataFrame([[35,21],[41,34]], index=['2017 Sales', '2018 Sales'], columns=['Apples', 'Bananas'])\n",
    "print(df2)"
   ]
  },
  {
   "cell_type": "code",
   "execution_count": 58,
   "metadata": {},
   "outputs": [
    {
     "name": "stdout",
     "output_type": "stream",
     "text": [
      "     city  visitor weekday\n",
      "0  Austin      139     sun\n",
      "1   Dalas      237     sun\n",
      "2  Austin      139     Mon\n",
      "3   Dalas      456     Mon\n",
      "True\n"
     ]
    }
   ],
   "source": [
    "#2. 請問如果現在有一個 DataFrame 如下，請問資料在 Python 中可能長怎樣？\n",
    "\n",
    "df0=pd.DataFrame([['Austin',139,'sun'],\n",
    "                 ['Dalas',237,'sun'],\n",
    "                 ['Austin',139,'Mon'],\n",
    "                 ['Dalas',456,'Mon']],\n",
    "                columns=['city','visitor','weekday'])\n",
    "\n",
    "df1= pd.DataFrame([{'city':'Austin', 'visitor':139, 'weekday':'Sun'},\n",
    "                  {'city':'Dallas', 'visitor':237, 'weekday':'Sun'},\n",
    "                  {'city':'Austin', 'visitor':326, 'weekday':'Mon'},\n",
    "                   {'city':'Dallas', 'visitor':456, 'weekday':'Mon'}])\n",
    "df2= pd.DataFrame({\n",
    "    'city': ['Austin', 'Dallas', 'Austin', 'Dallas'],\n",
    "    'visitor': [139, 237, 326, 456],\n",
    "    'weekday': ['Sun', 'Sun', 'Mon', 'Mon']})\n",
    "print(df0)\n",
    "print(all((df0==df1)&(df0==df2)))\n"
   ]
  },
  {
   "cell_type": "code",
   "execution_count": 75,
   "metadata": {},
   "outputs": [
    {
     "name": "stdout",
     "output_type": "stream",
     "text": [
      "Mon's mean: 297.5\n",
      "sun's mean: 188.0\n"
     ]
    }
   ],
   "source": [
    "#3. 假設你想知道每個 weekday 的平均 visitor 數量，可以怎麼做？\n",
    "for i in np.unique(df0['weekday']):\n",
    "    print(str(i)+\"'s mean:\",np.mean(df0['visitor'][df0.weekday==i]))"
   ]
  }
 ],
 "metadata": {
  "kernelspec": {
   "display_name": "Python 3",
   "language": "python",
   "name": "python3"
  },
  "language_info": {
   "codemirror_mode": {
    "name": "ipython",
    "version": 3
   },
   "file_extension": ".py",
   "mimetype": "text/x-python",
   "name": "python",
   "nbconvert_exporter": "python",
   "pygments_lexer": "ipython3",
   "version": "3.7.6"
  }
 },
 "nbformat": 4,
 "nbformat_minor": 4
}
