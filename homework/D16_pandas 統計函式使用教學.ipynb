{
 "cells": [
  {
   "cell_type": "markdown",
   "metadata": {},
   "source": [
    "對以下成績資料做分析\n",
    "\n",
    "```\n",
    "score_df = pd.DataFrame([[1,56,66,70], [2,90,45,34], [3,45,32,55], [4,70,77,89], [5,56,80,70], [6,60,54,55], [7,45,70,79], [8,34,77,76], [9,25,87,60], [10,88,40,43]],columns=['student_id','math_score','english_score','chinese_score'])\n",
    "```\n",
    "\n",
    "6 號學生(student_id=6) 3 科平均分數為何？\n",
    "\n",
    "6 號學生 3 科平均分數是否有贏過班上一半的同學？\n",
    "\n",
    "由於班上同學成績不好，所以學校統一加分，加分方式為開根號乘以十，請問 6 號同學 3 科成績分別是？\n",
    "\n",
    "承上題，加分後各科班平均變多少？\n",
    "\n",
    "\n"
   ]
  },
  {
   "cell_type": "code",
   "execution_count": 2,
   "metadata": {},
   "outputs": [],
   "source": [
    "import pandas as pd\n",
    "import numpy as np\n",
    "score_df = pd.DataFrame([[1,56,66,70], [2,90,45,34], [3,45,32,55], [4,70,77,89], [5,56,80,70], [6,60,54,55], [7,45,70,79], [8,34,77,76], [9,25,87,60], [10,88,40,43]],columns=['student_id','math_score','english_score','chinese_score'])"
   ]
  },
  {
   "cell_type": "code",
   "execution_count": 3,
   "metadata": {},
   "outputs": [
    {
     "name": "stdout",
     "output_type": "stream",
     "text": [
      "50.25 \n",
      "\n",
      "number 6 student's mean score is higher only  70.0 % of classmates \n",
      "\n",
      "student_id       26.457513\n",
      "math_score       67.082039\n",
      "english_score    83.666003\n",
      "chinese_score    88.881944\n",
      "Name: 6, dtype: float64 \n",
      "\n",
      "student_id       22.468278\n",
      "math_score       74.194221\n",
      "english_score    78.350301\n",
      "chinese_score    78.739928\n",
      "dtype: float64\n"
     ]
    }
   ],
   "source": [
    "#6號學生(student_id=6)3科平均分數為何?\n",
    "print(score_df.loc[6].mean(),'\\n') #equal to score_df.iloc[5].mean()\n",
    "#6號學生3科平均分數是否有贏過班上一半的同學?\n",
    "print(\"number 6 student's mean score is higher only \",100*sum(score_df.mean(axis=1)<score_df.loc[6].mean())/len(score_df),'% of classmates','\\n')\n",
    "#由於班上同學成績不好，所以學校統一加分，加分方式為開根號乘以十，請問6號同學3科成績分別是?\n",
    "score_df_new = score_df.apply(lambda x : x**(0.5)*10)\n",
    "print(score_df_new.loc[6],'\\n')\n",
    "#承上題，加分後各科班平均變多少?\n",
    "print(score_df_new.mean())"
   ]
  },
  {
   "cell_type": "code",
   "execution_count": null,
   "metadata": {},
   "outputs": [],
   "source": []
  }
 ],
 "metadata": {
  "kernelspec": {
   "display_name": "Python 3",
   "language": "python",
   "name": "python3"
  },
  "language_info": {
   "codemirror_mode": {
    "name": "ipython",
    "version": 3
   },
   "file_extension": ".py",
   "mimetype": "text/x-python",
   "name": "python",
   "nbconvert_exporter": "python",
   "pygments_lexer": "ipython3",
   "version": "3.7.6"
  }
 },
 "nbformat": 4,
 "nbformat_minor": 4
}
