{
 "cells": [
  {
   "cell_type": "markdown",
   "metadata": {},
   "source": [
    "[作業目標]\n",
    "\n",
    "產生一個 1-11 的一維陣列，並且把 3-6 由正數變成負數。\n",
    "\n",
    "試著從一個隨機陣列中，找出比 0.5 大的數有幾個？\n"
   ]
  },
  {
   "cell_type": "code",
   "execution_count": 1,
   "metadata": {},
   "outputs": [
    {
     "name": "stdout",
     "output_type": "stream",
     "text": [
      "[ 1  2  3 -4 -5 -6  7  8  9 10 11]\n",
      "[ 1  2 -3 -4 -5 -6  7  8  9 10 11]\n"
     ]
    }
   ],
   "source": [
    "#1. 產生一個 1-11 的一維陣列，並且把 3-6 由正數變成負數。\n",
    "\n",
    "import numpy as np\n",
    "oneD = np.arange(1,12)\n",
    "oneD[np.in1d(oneD,np.arange(4,7))] *=-1\n",
    "print(oneD)\n",
    "\n",
    "oneD = np.arange(1,12)\n",
    "oneD[(oneD <= 6) & (oneD >= 3)] *= -1\n",
    "print(oneD)"
   ]
  },
  {
   "cell_type": "code",
   "execution_count": 2,
   "metadata": {},
   "outputs": [
    {
     "name": "stdout",
     "output_type": "stream",
     "text": [
      "[[0.40876232 0.45687098 0.97277306 0.98465035 0.09318944 0.43563024]\n",
      " [0.94557519 0.29041941 0.20791837 0.48388401 0.51126277 0.24312722]\n",
      " [0.98474742 0.99129134 0.64801587 0.66773705 0.37258409 0.60943493]]\n",
      "9\n",
      "9\n",
      "9\n"
     ]
    }
   ],
   "source": [
    "#2.試著從一個隨機陣列中，找出比 0.5 大的數有幾個？\n",
    "A = np.random.rand(3, 6)\n",
    "print(A)\n",
    "print(A[A > 0.5].size)\n",
    "print(len(A[A > 0.5]))\n",
    "print(np.sum(A > 0.5))"
   ]
  },
  {
   "cell_type": "markdown",
   "metadata": {},
   "source": [
    "作業目標\n",
    "\n",
    "計算有缺失值的資料，統計量實作\n",
    "\n",
    "作業重點\n",
    "\n",
    "當遇到缺失值有函式可以處理，不須額外寫程式刪除\n",
    "\n",
    "計算統計量時不能出現缺失值\n",
    "\n",
    "題目:\n",
    "\n",
    "english_score = np.array([55,89,76,65,48,70])\n",
    "\n",
    "math_score = np.array([60,85,60,68,np.nan,60])\n",
    "\n",
    "chinese_score = np.array([65,90,82,72,66,77])\n",
    "\n",
    "上3列共六位同學的英文、數學、國文成績，第一個元素代表第一位同學，舉例第一位同學英文55分、數學60分、國文65分，今天第五位同學因某原因沒來考試，導致數學成績缺值，運用上列數據回答下列問題。\n",
    "\n",
    "請計算各科成績平均、最大值、最小值、標準差，其中數學缺一筆資料可忽略?\n",
    "\n",
    "第五位同學補考數學後成績為55，請計算補考後數學成績平均、最大值、最小值、標準差?\n",
    "\n",
    "用補考後資料找出與國文成績相關係數最高的學科?"
   ]
  },
  {
   "cell_type": "code",
   "execution_count": 3,
   "metadata": {},
   "outputs": [],
   "source": [
    "import numpy as np"
   ]
  },
  {
   "cell_type": "code",
   "execution_count": 4,
   "metadata": {},
   "outputs": [],
   "source": [
    "english_score = np.array([55,89,76,65,48,70])\n",
    "math_score = np.array([60,85,60,68,np.nan,60])\n",
    "chinese_score = np.array([65,90,82,72,66,77])"
   ]
  },
  {
   "cell_type": "code",
   "execution_count": 5,
   "metadata": {},
   "outputs": [
    {
     "name": "stdout",
     "output_type": "stream",
     "text": [
      "[[67.16666667 89.         48.         13.43399502]\n",
      " [66.6        85.         60.          9.70772888]\n",
      " [75.33333333 90.         65.          8.8254682 ]]\n"
     ]
    }
   ],
   "source": [
    "#1. 請計算各科成績平均、最大值、最小值、標準差，其中數學缺一筆資料可忽略?\n",
    "score_all= np.vstack((english_score,math_score,chinese_score))\n",
    "ans1_1=np.nanmean(score_all,axis=1)\n",
    "ans1_2=np.nanmax(score_all,axis=1)\n",
    "ans1_3=np.nanmin(score_all,axis=1)\n",
    "ans1_4=np.nanstd(score_all,axis=1)\n",
    "ans1=np.vstack((ans1_1,ans1_2,ans1_3,ans1_4)).T\n",
    "print(ans1)"
   ]
  },
  {
   "cell_type": "code",
   "execution_count": 6,
   "metadata": {},
   "outputs": [
    {
     "name": "stdout",
     "output_type": "stream",
     "text": [
      "[[67.16666667 89.         48.         13.43399502]\n",
      " [64.66666667 85.         55.          9.86013297]\n",
      " [75.33333333 90.         65.          8.8254682 ]]\n"
     ]
    }
   ],
   "source": [
    "#2. 第五位同學補考數學後成績為55，請計算補考後數學成績平均、最大值、最小值、標準差?\n",
    "math_score[4]=55\n",
    "\n",
    "score_all_new= np.vstack((english_score,math_score,chinese_score))\n",
    "ans1_1=np.nanmean(score_all_new,axis=1)\n",
    "ans1_2=np.nanmax(score_all_new,axis=1)\n",
    "ans1_3=np.nanmin(score_all_new,axis=1)\n",
    "ans1_4=np.nanstd(score_all_new,axis=1)\n",
    "ans2=np.vstack((ans1_1,ans1_2,ans1_3,ans1_4)).T\n",
    "print(ans2)"
   ]
  },
  {
   "cell_type": "code",
   "execution_count": 7,
   "metadata": {},
   "outputs": [],
   "source": [
    "#3. 用補考後資料找出與國文成績相關係數最高的學科?"
   ]
  },
  {
   "cell_type": "code",
   "execution_count": 8,
   "metadata": {},
   "outputs": [
    {
     "data": {
      "text/plain": [
       "array([[1.        , 0.7855563 , 0.97792828],\n",
       "       [0.7855563 , 1.        , 0.74056803],\n",
       "       [0.97792828, 0.74056803, 1.        ]])"
      ]
     },
     "execution_count": 8,
     "metadata": {},
     "output_type": "execute_result"
    }
   ],
   "source": [
    "np.corrcoef(score_all_new)\n",
    "#the highest corrcoef is Engilsh"
   ]
  },
  {
   "cell_type": "code",
   "execution_count": null,
   "metadata": {},
   "outputs": [],
   "source": []
  }
 ],
 "metadata": {
  "kernelspec": {
   "display_name": "Python 3",
   "language": "python",
   "name": "python3"
  },
  "language_info": {
   "codemirror_mode": {
    "name": "ipython",
    "version": 3
   },
   "file_extension": ".py",
   "mimetype": "text/x-python",
   "name": "python",
   "nbconvert_exporter": "python",
   "pygments_lexer": "ipython3",
   "version": "3.7.6"
  }
 },
 "nbformat": 4,
 "nbformat_minor": 4
}
