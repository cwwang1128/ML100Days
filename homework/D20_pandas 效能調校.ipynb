{
 "cells": [
  {
   "cell_type": "markdown",
   "metadata": {},
   "source": [
    "題目 : \n",
    "\n",
    "1.  在速度較慢的時候，可以先從哪邊開始檢查？\n",
    "\n",
    "A:  讀取的資料型態、多使用python內建函數、使用向量化的資料處理\n",
    "    \n",
    "講義解答：先檢查有沒有使⽤到⾃訂義的函數，如果有可以查詢pandas中是否有\n",
    "⽀援相關演算法，如果以上都沒辦法改善，那可以從資料讀取⽅式下⼿，將要\n",
    "讀取的資料改成pkl檔\n",
    "\n",
    "2.  資料過大時應採取什麼方式讓記憶體占用量下降？\n",
    "\n",
    "A:  將欄位的型態降級"
   ]
  }
 ],
 "metadata": {
  "kernelspec": {
   "display_name": "Python 3",
   "language": "python",
   "name": "python3"
  },
  "language_info": {
   "codemirror_mode": {
    "name": "ipython",
    "version": 3
   },
   "file_extension": ".py",
   "mimetype": "text/x-python",
   "name": "python",
   "nbconvert_exporter": "python",
   "pygments_lexer": "ipython3",
   "version": "3.7.6"
  }
 },
 "nbformat": 4,
 "nbformat_minor": 4
}
