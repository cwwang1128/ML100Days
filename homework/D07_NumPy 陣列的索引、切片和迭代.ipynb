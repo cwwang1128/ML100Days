{
 "cells": [
  {
   "cell_type": "markdown",
   "metadata": {},
   "source": [
    "請比較對一個 100 x 100 * 100 的陣列，使用不同方法對每一個元素 +1 的時間比較。\n",
    "\n",
    "如何從一個陣列中，找出出現頻率最高的數值與位置？\n",
    "\n",
    "如何利用 list(...) 實現 a.tolist() 的效果？試著用程式實作。"
   ]
  },
  {
   "cell_type": "code",
   "execution_count": 1,
   "metadata": {},
   "outputs": [],
   "source": [
    "import numpy as np\n",
    "import timeit"
   ]
  },
  {
   "cell_type": "code",
   "execution_count": 2,
   "metadata": {},
   "outputs": [],
   "source": [
    "#1. 請比較對一個 1000 x 100 x 100 的陣列，使用不同方法對每一個元素 +1 的時間比較。\n",
    "Z = np.random.randint(0, 10, 1000000).reshape(100, 100, 100)"
   ]
  },
  {
   "cell_type": "code",
   "execution_count": 3,
   "metadata": {},
   "outputs": [
    {
     "name": "stdout",
     "output_type": "stream",
     "text": [
      "24.3 ns ± 10.5 ns per loop (mean ± std. dev. of 7 runs, 10 loops each)\n"
     ]
    }
   ],
   "source": [
    "#No modify\n",
    "%timeit -n 10 a = 2\n",
    "Z += 1"
   ]
  },
  {
   "cell_type": "code",
   "execution_count": 4,
   "metadata": {},
   "outputs": [
    {
     "name": "stdout",
     "output_type": "stream",
     "text": [
      "38.6 ns ± 13.6 ns per loop (mean ± std. dev. of 7 runs, 10 loops each)\n"
     ]
    }
   ],
   "source": [
    "#falt\n",
    "%timeit -n 10 a = 2\n",
    "\n",
    "Z_method2 = []\n",
    "\n",
    "for i in Z.flat:\n",
    "    Z_method2.append(i+1)\n",
    "Z_method2=np.array(Z_method2).reshape(100,100,100)"
   ]
  },
  {
   "cell_type": "code",
   "execution_count": 5,
   "metadata": {},
   "outputs": [
    {
     "name": "stdout",
     "output_type": "stream",
     "text": [
      "34.3 ns ± 7.28 ns per loop (mean ± std. dev. of 7 runs, 10 loops each)\n"
     ]
    }
   ],
   "source": [
    "#falt\n",
    "%timeit -n 10 a = 2\n",
    "\n",
    "Z_method3 = []\n",
    "\n",
    "for i in np.nditer(Z, order = 'C'):\n",
    "    Z_method3.append(i+1)\n",
    "\n",
    "Z_method3_array = np.array(Z_method3, dtype = int).reshape(100,100,100)\n"
   ]
  },
  {
   "cell_type": "code",
   "execution_count": 6,
   "metadata": {},
   "outputs": [
    {
     "name": "stdout",
     "output_type": "stream",
     "text": [
      "[9 0 8 8 9 4 8 3 5 3 3 7 9 6 1 8 0 9 3 6 3 4 0 3 4 1 9 7 0 8 9 6 4 7 5 1 8\n",
      " 2 4 4 3 9 0 4 6 8 3 6 7 9]\n",
      "頻率最高的數值: 9\n",
      "頻率最高的數值的次數: 8\n",
      "頻率最高的數值的位置: [ 0  4 12 17 26 30 41 49]\n"
     ]
    }
   ],
   "source": [
    "#2.如何從一個陣列中，找出出現頻率最高的數值與位置？\n",
    "Z = np.random.randint(0,10,50)\n",
    "print(Z)\n",
    "\n",
    "uni,con=np.unique(Z,return_counts=True)\n",
    "print('頻率最高的數值:',np.max(uni))\n",
    "print('頻率最高的數值的次數:',con[np.argmax(uni)])\n",
    "print('頻率最高的數值的位置:',np.where(Z==np.max(uni))[0])\n",
    "#np.where()[0] 表示行索引，np.where()[1]表示列索引"
   ]
  },
  {
   "cell_type": "code",
   "execution_count": 7,
   "metadata": {},
   "outputs": [
    {
     "name": "stdout",
     "output_type": "stream",
     "text": [
      "[2, 9, 6, 0, 5, 9]\n",
      "[2, 9, 6, 0, 5, 9]\n",
      "[[4, 8, 6, 1], [1, 4, 8, 3], [3, 4, 1, 1]]\n",
      "[array([4, 8, 6, 1]), array([1, 4, 8, 3]), array([3, 4, 1, 1])]\n",
      "[[[0, 0], [0, 0], [0, 5]], [[1, 1], [3, 0], [6, 5]]]\n",
      "[array([[0, 0],\n",
      "       [0, 0],\n",
      "       [0, 5]]), array([[1, 1],\n",
      "       [3, 0],\n",
      "       [6, 5]])]\n"
     ]
    }
   ],
   "source": [
    "#3.如何利用 list(...) 實現 a.tolist() 的效果？試著用程式實作。\n",
    "a = np.random.randint(10, size=6) \n",
    "print(a.tolist())\n",
    "print(list(a))\n",
    "\n",
    "\n",
    "b = np.random.randint(10, size=(3,4)) \n",
    "print(b.tolist())\n",
    "print(list(b))\n",
    "\n",
    "\n",
    "c = np.random.randint(10, size=(2,3,2)) \n",
    "print(c.tolist())\n",
    "print(list(c))"
   ]
  },
  {
   "cell_type": "code",
   "execution_count": 8,
   "metadata": {},
   "outputs": [
    {
     "data": {
      "text/plain": [
       "[[[0, 0], [0, 0], [0, 5]], [[1, 1], [3, 0], [6, 5]]]"
      ]
     },
     "execution_count": 8,
     "metadata": {},
     "output_type": "execute_result"
    }
   ],
   "source": [
    "tolist_ = lambda arr: list(map(tolist_, arr)) if isinstance(arr, np.ndarray) else arr #isinstance is faster than type()\n",
    "tolist_(c)"
   ]
  },
  {
   "cell_type": "code",
   "execution_count": 9,
   "metadata": {},
   "outputs": [
    {
     "data": {
      "text/plain": [
       "[[[0, 0], [0, 0], [0, 5]], [[1, 1], [3, 0], [6, 5]]]"
      ]
     },
     "execution_count": 9,
     "metadata": {},
     "output_type": "execute_result"
    }
   ],
   "source": [
    "def tolist_2(arr):\n",
    "    if (isinstance(arr, np.ndarray)):\n",
    "        return(list(map(tolist_2, arr)))        \n",
    "    else:\n",
    "        return(arr)\n",
    "\n",
    "tolist_2(c)"
   ]
  },
  {
   "cell_type": "markdown",
   "metadata": {},
   "source": [
    "array1 = np.array([[10, 8], [3, 5]])\n",
    "\n",
    "\n",
    "\n",
    "運用上列array計算反矩陣，乘上原矩陣，並觀察是否為單位矩陣?\n",
    "\n",
    "運用上列array計算特徵值、特徵向量?\n",
    "\n",
    "運用上列array計算SVD?"
   ]
  },
  {
   "cell_type": "code",
   "execution_count": 10,
   "metadata": {},
   "outputs": [],
   "source": [
    "array1 = np.array([[10, 8], [3, 5]])"
   ]
  },
  {
   "cell_type": "code",
   "execution_count": 11,
   "metadata": {},
   "outputs": [
    {
     "name": "stdout",
     "output_type": "stream",
     "text": [
      "反矩陣 = \n",
      " [[ 0.19230769 -0.30769231]\n",
      " [-0.11538462  0.38461538]]\n",
      "反矩陣乘上原矩陣為單位矩陣:\n",
      " [[1. 0.]\n",
      " [0. 1.]]\n"
     ]
    }
   ],
   "source": [
    "#1.運用上列array計算反矩陣，乘上原矩陣，並觀察是否為單位矩陣?\n",
    "array2 = np.linalg.inv(array1 )\n",
    "print( '反矩陣 = \\n', array2 )\n",
    "\n",
    "print('反矩陣乘上原矩陣為單位矩陣:\\n',array1.dot(array2))"
   ]
  },
  {
   "cell_type": "code",
   "execution_count": 12,
   "metadata": {},
   "outputs": [
    {
     "name": "stdout",
     "output_type": "stream",
     "text": [
      "eigenvalues:\n",
      "[13.  2.]\n",
      "eigenvectors:\n",
      "[[ 0.93632918 -0.70710678]\n",
      " [ 0.35112344  0.70710678]]\n"
     ]
    }
   ],
   "source": [
    "#2.運用上列array計算特徵值、特徵向量?\n",
    "print('eigenvalues:',np.linalg.eig(array1)[0],sep='\\n')\n",
    "print('eigenvectors:',np.linalg.eig(array1)[1],sep='\\n')\n"
   ]
  },
  {
   "cell_type": "code",
   "execution_count": 13,
   "metadata": {},
   "outputs": [
    {
     "name": "stdout",
     "output_type": "stream",
     "text": [
      "[[-0.91663818 -0.39971796]\n",
      " [-0.39971796  0.91663818]]\n",
      "[13.94721714  1.86417116]\n",
      "[[-0.74319741 -0.6690722 ]\n",
      " [-0.6690722   0.74319741]]\n"
     ]
    }
   ],
   "source": [
    "#3.運用上列array計算SVD?\n",
    "u, s, vh = np.linalg.svd(array1)\n",
    "print(u)\n",
    "print(s)\n",
    "print(vh)"
   ]
  },
  {
   "cell_type": "code",
   "execution_count": null,
   "metadata": {},
   "outputs": [],
   "source": []
  }
 ],
 "metadata": {
  "kernelspec": {
   "display_name": "Python 3",
   "language": "python",
   "name": "python3"
  },
  "language_info": {
   "codemirror_mode": {
    "name": "ipython",
    "version": 3
   },
   "file_extension": ".py",
   "mimetype": "text/x-python",
   "name": "python",
   "nbconvert_exporter": "python",
   "pygments_lexer": "ipython3",
   "version": "3.7.6"
  }
 },
 "nbformat": 4,
 "nbformat_minor": 4
}
